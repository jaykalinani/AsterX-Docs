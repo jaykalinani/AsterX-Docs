{
 "cells": [
  {
   "cell_type": "markdown",
   "id": "a3199d91",
   "metadata": {},
   "source": [
    "# 2D Magnetic Loop Advection Test\n",
    "\n",
    "This notebook runs a simulation of an advecting magnetic field loop with AsterX, and visualizes the data saved in OpenPMD format. \n",
    "\n",
    "\n",
    "### Test setup\n",
    "In this test, a magnetized circular field loop is propagated within the surrounding non–magnetized ambient medium with\n",
    "a constant velocity in a 2D periodic grid. The analytical prescription of magnetic field is:\n",
    "- $B^x, B^y = -A_{loop} y/r, \\ A_{loop} x/r; \\ \\ r < R_{loop} \n",
    "\\\\ \\ \\ \\ \\ \\  \\ \\ \\ \\ \\  \\ = 0,  \\ \\ \\ 0; \\ \\ r> R_{loop}$\n",
    "\n",
    "\n",
    "- $A_{loop}$ is magnitude of magnetic field, $r$ is the cylindrical radius, $R_{loop}$ is the loop radius.\n",
    "\n",
    "- Parameter settings: $\\rho = 1.0$, $P_{gas} = 3.0$, $A_{loop} = 0.001$, $R_{loop} = 0.3$, $v^i = (1/12, 1/12, 1/24)$\n",
    "\n",
    "- Here, we use the ideal gas EOS with $\\gamma = 5/3$. \n",
    "\n",
    "- Initial data is set using the thorn ```AsterSeeds```.\n",
    "\n",
    "- Grid domain is $[-0.5,+0.5]$ with size $40 \\times 40$ (very low resolution).\n",
    "\n",
    "- `Linear extrapolation` is used as boundary conditions in all directions.\n",
    "\n",
    "\n"
   ]
  },
  {
   "cell_type": "code",
   "execution_count": null,
   "id": "2f81f9c6",
   "metadata": {},
   "outputs": [],
   "source": [
    "# this allows you to use \"cd\" in cells to change directories instead of requiring \"%cd\"\n",
    "%automagic on\n",
    "# override IPython's default %%bash to not buffer all output\n",
    "from IPython.core.magic import register_cell_magic\n",
    "@register_cell_magic\n",
    "def bash(line, cell): get_ipython().system(cell)\n",
    "\n",
    "# this (non-default package) keeps the end of shell output in view\n",
    "try: import scrolldown\n",
    "except ModuleNotFoundError: pass\n",
    "\n",
    "# set Python environment \n",
    "import os, sys\n",
    "os.environ[\"PYTHONUSERBASE\"] = os.environ['HOME'] + \"/Cactus/python\"\n",
    "sys.path.insert(1, f\"{os.environ['PYTHONUSERBASE']}/lib/python{sys.version_info[0]}.{sys.version_info[1]}/site-packages\")"
   ]
  },
  {
   "cell_type": "markdown",
   "id": "cdbc9030",
   "metadata": {},
   "source": [
    "## 1. Steps to perform the simulation"
   ]
  },
  {
   "cell_type": "markdown",
   "id": "e1147f1c",
   "metadata": {},
   "source": [
    "First, let's first move to the Cactus folder:"
   ]
  },
  {
   "cell_type": "code",
   "execution_count": null,
   "id": "32ea5241",
   "metadata": {},
   "outputs": [],
   "source": [
    "cd ~/CarpetX"
   ]
  },
  {
   "cell_type": "markdown",
   "id": "da9030c4",
   "metadata": {},
   "source": [
    "Now, let's create the parameter file to be used for this simulation:"
   ]
  },
  {
   "cell_type": "code",
   "execution_count": null,
   "id": "f70080ec",
   "metadata": {},
   "outputs": [],
   "source": [
    "%%writefile ./par/Magnetic_loop_advection.par\n",
    "\n",
    "ActiveThorns = \"\n",
    "    CarpetX\n",
    "    Formaline\n",
    "    IOUtil\n",
    "    ODESolvers\n",
    "    SystemTopology\n",
    "    TimerReport\n",
    "    ADMBase\n",
    "    HydroBase\n",
    "    TmunuBase\n",
    "    AsterSeeds\n",
    "    AsterX\n",
    "    EOSX\n",
    "\"\n",
    "\n",
    "$ncells = 40\n",
    "\n",
    "# -------------------- Cactus --------------------------------------------------\n",
    "Cactus::cctk_show_schedule = yes\n",
    "Cactus::presync_mode       = \"mixed-error\"\n",
    "\n",
    "Cactus::terminate       = \"time\"\n",
    "Cactus::cctk_final_time = 10  \n",
    "\n",
    "\n",
    "# -------------------- TimerReport ---------------------------------------------\n",
    "TimerReport::out_every                  = 10\n",
    "TimerReport::out_filename               = \"TimerReport.asc\"\n",
    "TimerReport::output_all_timers_together = yes\n",
    "TimerReport::output_all_timers_readable = yes\n",
    "TimerReport::n_top_timers               = 50\n",
    "\n",
    "\n",
    "\n",
    "# -------------------- CarpetX -------------------------------------------------\n",
    "CarpetX::verbose = no\n",
    "\n",
    "CarpetX::xmin = -0.5\n",
    "CarpetX::ymin = -0.5\n",
    "CarpetX::zmin = -1.0/$ncells  \n",
    "\n",
    "CarpetX::xmax = +0.5\n",
    "CarpetX::ymax = +0.5\n",
    "CarpetX::zmax = +1.0/$ncells \n",
    "\n",
    "CarpetX::boundary_x = \"none\"\n",
    "CarpetX::boundary_y = \"none\"\n",
    "CarpetX::boundary_z = \"linear extrapolation\"\n",
    "\n",
    "CarpetX::boundary_upper_x = \"none\"\n",
    "CarpetX::boundary_upper_y = \"none\"\n",
    "CarpetX::boundary_upper_z = \"linear extrapolation\"\n",
    "\n",
    "CarpetX::periodic_x = yes\n",
    "CarpetX::periodic_y = yes\n",
    "CarpetX::periodic_z = no\n",
    "\n",
    "CarpetX::ncells_x = $ncells\n",
    "CarpetX::ncells_y = $ncells\n",
    "CarpetX::ncells_z = 2\n",
    "\n",
    "CarpetX::max_num_levels         = 1\n",
    "CarpetX::regrid_every           = 100000\n",
    "CarpetX::blocking_factor_x      = 1\n",
    "CarpetX::blocking_factor_y      = 1\n",
    "CarpetX::blocking_factor_z      = 1\n",
    "CarpetX::regrid_error_threshold = 0.01\n",
    "\n",
    "CarpetX::prolongation_type = \"ddf\"\n",
    "CarpetX::ghost_size        = 3\n",
    "CarpetX::dtfac             = 0.5\n",
    "\n",
    "\n",
    "# -------------------- ODESolvers ----------------------------------------------\n",
    "ODESolvers::method = \"RK4\"\n",
    "\n",
    "\n",
    "\n",
    "# -------------------- ADMBase -------------------------------------------------\n",
    "ADMBase::initial_data    = \"Cartesian Minkowski\"\n",
    "ADMBase::initial_lapse   = \"one\"\n",
    "ADMBase::initial_shift   = \"zero\"\n",
    "ADMBase::initial_dtlapse = \"none\"\n",
    "ADMBase::initial_dtshift = \"none\"\n",
    "\n",
    "\n",
    "# -------------------- AsterSeeds ----------------------------------------------\n",
    "AsterSeeds::test_type = \"2DTest\"\n",
    "AsterSeeds::test_case = \"magnetic loop advection\"\n",
    "AsterSeeds::mag_loop_adv_type      = \"2D\"\n",
    "AsterSeeds::mag_loop_adv_axial_vel = \"non-zero\"\n",
    "\n",
    "# -------------------- AsterX --------------------------------------------------\n",
    "AsterX::reconstruction_method = \"wenoz\"\n",
    "AsterX::flux_type = \"HLLE\"\n",
    "AsterX::max_iter              = 100\n",
    "AsterX::c2p_tol = 1e-8\n",
    "AsterX::debug_mode = \"yes\"\n",
    "\n",
    "Con2PrimFactory::unit_test = \"yes\"\n",
    "\n",
    "EOSX::evol_eos_name = \"IdealGas\"\n",
    "EOSX::gl_gamma = 1.66666666666667\n",
    "EOSX::poly_gamma = 1.66666666666667\n",
    "\n",
    "IO::out_dir = $parfile\n",
    "IO::out_every =  20 \n",
    "CarpetX::out_silo_vars = \"\n",
    "    HydroBase::rho\n",
    "    HydroBase::Bvec\n",
    "\"\n",
    "\n",
    "CarpetX::out_tsv_vars = \"\n",
    "    HydroBase::rho\n",
    "    HydroBase::Bvec\n",
    "\"\n",
    "        \n",
    "CarpetX::out_openpmd_vars = \"\n",
    "    HydroBase::rho\n",
    "    HydroBase::vel\n",
    "    HydroBase::eps\n",
    "    HydroBase::press\n",
    "    HydroBase::Bvec\n",
    "\"\n"
   ]
  },
  {
   "cell_type": "markdown",
   "id": "658a1c21",
   "metadata": {},
   "source": [
    "Then, submit the simulation using the following command:"
   ]
  },
  {
   "cell_type": "code",
   "execution_count": null,
   "id": "e03e1fc4",
   "metadata": {},
   "outputs": [],
   "source": [
    "%%bash\n",
    "./simfactory/bin/sim create-submit Magnetic_loop_advection \\\n",
    "  --parfile=./par/Magnetic_loop_advection.par --procs=3 --num-threads=1 --ppn-used=3 --walltime=00:20:00"
   ]
  },
  {
   "cell_type": "markdown",
   "id": "726eea03",
   "metadata": {},
   "source": [
    "The above command creates and runs the simulation ```Magnetic_loop_advection```, using the configuration ```sim```. The data is saved in the directory ```./simulations/Magnetic_loop_advection```.\n",
    "\n"
   ]
  },
  {
   "cell_type": "code",
   "execution_count": null,
   "id": "503a5fac",
   "metadata": {},
   "outputs": [],
   "source": [
    "# watch log output, following along as new output is produced\n",
    "!./simfactory/bin/sim show-output --follow Magnetic_loop_advection"
   ]
  },
  {
   "cell_type": "markdown",
   "id": "f0ac6505",
   "metadata": {},
   "source": [
    "## 2. Steps to visualize simulation data\n",
    "\n",
    "The 2D data can be saved in both Silo format (which can be visualised, for instance, via VisIt) and in OpenPMD format. \n",
    "\n",
    "For further info on Silo, please visit: https://wci.llnl.gov/simulation/computer-codes/silo\n",
    "\n",
    "For further info about OpenPMD, please visit:\n",
    "\n",
    "- Official website:  https://www.openpmd.org\n",
    "- GitHub repository: https://github.com/openPMD\n",
    "- Documentation:     https://openpmd-api.readthedocs.io"
   ]
  },
  {
   "cell_type": "markdown",
   "id": "a2649395",
   "metadata": {},
   "source": [
    "Now, let's go back to the home directory:"
   ]
  },
  {
   "cell_type": "code",
   "execution_count": null,
   "id": "e4843d83",
   "metadata": {},
   "outputs": [],
   "source": [
    "cd ~/"
   ]
  },
  {
   "cell_type": "markdown",
   "id": "11a41e6a",
   "metadata": {},
   "source": [
    "Import all the required modules:"
   ]
  },
  {
   "cell_type": "code",
   "execution_count": null,
   "id": "639ea08d",
   "metadata": {},
   "outputs": [],
   "source": [
    "%pip install --user celluloid"
   ]
  },
  {
   "cell_type": "code",
   "execution_count": null,
   "id": "4d6568bb",
   "metadata": {},
   "outputs": [],
   "source": [
    "import sys\n",
    "sys.path.append(\"/usr/local/lib/python3.8/site-packages\")"
   ]
  },
  {
   "cell_type": "code",
   "execution_count": null,
   "id": "6e85b103",
   "metadata": {},
   "outputs": [],
   "source": [
    "import numpy as np\n",
    "from matplotlib import pyplot as plt\n",
    "from celluloid import Camera\n",
    "import openpmd_api as io"
   ]
  },
  {
   "cell_type": "markdown",
   "id": "07ab8463",
   "metadata": {},
   "source": [
    "Set the Matplotlib backend to `notebook`, not `inline`, since we'll want to animate some figures and the latter is not compatible with that"
   ]
  },
  {
   "cell_type": "code",
   "execution_count": null,
   "id": "83a647de",
   "metadata": {},
   "outputs": [],
   "source": [
    "%matplotlib notebook"
   ]
  },
  {
   "cell_type": "markdown",
   "id": "ab672b26",
   "metadata": {},
   "source": [
    "Open a .bp file (ADIOS2 extension) as an OpenPMD **'series'**, which is a collection of **'iterations'**, each of which contains **'records'**, which are sets of either structured data --- **'meshes'** --- or unstructured data --- **'particles'**. \n",
    "\n",
    "AsterX only outputs mesh data. Each record has one or more **'components'**: for example, a record representing a scalar field only has one component, while a record representing a vector field has three."
   ]
  },
  {
   "cell_type": "code",
   "execution_count": null,
   "id": "952fe282",
   "metadata": {},
   "outputs": [],
   "source": [
    "home = os.environ[\"HOME\"]\n",
    "series = io.Series(os.path.join(home, \"simulations\",\n",
    "                                \"Magnetic_loop_advection\",\n",
    "                                \"output-0000\",\"Magnetic_loop_advection\",\n",
    "                                \"Magnetic_loop_advection.it%08T.bp5\"), io.Access.read_only)"
   ]
  },
  {
   "cell_type": "markdown",
   "id": "afe46e4f",
   "metadata": {},
   "source": [
    "All iterations in our series have the same structure, i.e., they contain\n",
    "the same records, since they all represent the same output, just at\n",
    "different times. \n",
    "\n",
    "Here we define an empty Python nested dictionary whose\n",
    "structure, once full, will be:\n",
    "\n",
    "Iteration 0:\n",
    "- Record 1:\n",
    "  - Component 1: 3D data array\n",
    "  - Component 2: 3D data array\n",
    "  - Component 3: 3D data array\n",
    "- Record 2:\n",
    "  - Component 1: 3D data array\n",
    "  - Component 2: 3D data array\n",
    "  - Component 3: 3D data array\n",
    "  \n",
    " [...]\n",
    "\n",
    "Iteration 1:\n",
    "- Record 1:\n",
    "  - Component 1: 3D data array\n",
    "  - Component 2: 3D data array\n",
    "  - Component 3: 3D data array\n",
    "- Record 2:\n",
    "  - Component 1: 3D data array\n",
    "  - Component 2: 3D data array\n",
    "  - Component 3: 3D data array\n",
    "  \n",
    " [...]\n",
    "\n",
    "[...]"
   ]
  },
  {
   "cell_type": "code",
   "execution_count": null,
   "id": "2efcb65f",
   "metadata": {},
   "outputs": [],
   "source": [
    "iter_rec_comp_dict = {}"
   ]
  },
  {
   "cell_type": "markdown",
   "id": "50d2202f",
   "metadata": {},
   "source": [
    "Print info, register data chunks and fill the above dictionary:"
   ]
  },
  {
   "cell_type": "code",
   "execution_count": null,
   "id": "9e50d08d",
   "metadata": {},
   "outputs": [],
   "source": [
    "for index in series.iterations:\n",
    "    iteration = str(index)\n",
    "\n",
    "    print(\"\\nIteration \" + iteration + \":\")\n",
    "    print(\"==============\")\n",
    "\n",
    "    # Allocate an empty dictionary associated to this iteration\n",
    "    iter_rec_comp_dict[iteration] = {}\n",
    "\n",
    "    i = series.iterations[index]\n",
    "\n",
    "    for key in i.meshes:\n",
    "        print(\"Components of record \\\"\" + key + \"\\\":\")\n",
    "\n",
    "        # Allocate an empty dictionary associated to this record. Notice that\n",
    "        # 'record' is an OpenPMD mesh object, so it's better to use 'key'\n",
    "        # instead of 'record' as a key in the dictionary ('record' could also be\n",
    "        # used, but it makes accessing the key clumsy).\n",
    "        record = i.meshes[key]\n",
    "        iter_rec_comp_dict[iteration][key] = {}\n",
    "\n",
    "        # Load each component of each record as a 'data chunk', i.e., an\n",
    "        # allocated, but STILL INVALID, NumPy array. Later we will flush all\n",
    "        # chunks (i.e., basically, fill the NumPy arrays) at once: this leads\n",
    "        # to better I/O performance compared to flushing a large number of\n",
    "        # small chunks. That's why we bothered creating the nested dictionary:\n",
    "        # in this way, we can access the valid NumPy arrays for plotting\n",
    "        # without having to flush each single chunk.\n",
    "        # *IMPORTANT*: DO NOT access data chunks until flushing has happened!\n",
    "        for component in record:\n",
    "            print(\"    > \" + component)  # 'component' is a string\n",
    "            iter_rec_comp_dict[iteration][key][component] = record[component].load_chunk()  # *INVALID* 3D NumPy array\n",
    "\n",
    "        print(\"\")"
   ]
  },
  {
   "cell_type": "markdown",
   "id": "aa7c35ac",
   "metadata": {},
   "source": [
    "Flush all registered data chunks, which are now **VALID** 3D NumPy arrays:"
   ]
  },
  {
   "cell_type": "code",
   "execution_count": null,
   "id": "19cbf55f",
   "metadata": {},
   "outputs": [],
   "source": [
    "series.flush()"
   ]
  },
  {
   "cell_type": "markdown",
   "id": "f5e3e0b5",
   "metadata": {},
   "source": [
    "Visualize a 2D movie of the x-component of the magnetic field on the xy plane:"
   ]
  },
  {
   "cell_type": "code",
   "execution_count": null,
   "id": "9ac9aac8",
   "metadata": {
    "scrolled": true
   },
   "outputs": [],
   "source": [
    "# Select the desired record and component to plot\n",
    "record    = \"hydrobase_bvec_lev00\"  # \"carpetx_regrid_error_lev00\", \"hydrobase_eps_lev00\", \"hydrobase_press_lev00\", \"hydrobase_rho_lev00\", \"hydrobase_vel_lev00\"\n",
    "component = \"hydrobase_bvecx\"  # \"carpetx_regrid_error\", \"hydrobase_eps\", \"hydrobase_press\", \"hydrobase_rho\", \"hydrobase_velx\", \"hydrobase_vely\", \"hydrobase_velz\"\n",
    "\n",
    "# Set up the axes for the plot and the colorbar\n",
    "fig    = plt.figure(figsize = [4.8, 4])\n",
    "axplot = fig.add_axes([0.12, 0.14, 0.72, 0.74])\n",
    "axclb  = fig.add_axes([0.85, 0.14, 0.02, 0.74])\n",
    "#axplot = fig.add_axes([0.12, 0.14, 0.7, 0.7])\n",
    "#axclb  = fig.add_axes([0.8, 0.16, 0.05, 0.65])\n",
    "\n",
    "\n",
    "# Set title and labels\n",
    "axplot.set_title(\"B^x\", fontsize = 10., fontweight = \"bold\", color = \"midnightblue\")\n",
    "axplot.set_xlabel(\"x\", fontsize = 7.)\n",
    "axplot.set_ylabel(\"z\", fontsize = 7.)\n",
    "axplot.tick_params(labelsize=7)\n",
    "axplot.xaxis.set_major_locator(plt.MaxNLocator(5))\n",
    "axplot.yaxis.set_major_locator(plt.MaxNLocator(5))\n",
    "\n",
    "\n",
    "# Initialize the camera\n",
    "camera = Camera(fig)\n",
    "\n",
    "# Print frames\n",
    "for iteration in iter_rec_comp_dict:\n",
    "    # Retrieve the 3D array containing the data\n",
    "    array3D = iter_rec_comp_dict[iteration][record][component]\n",
    "    \n",
    "    # Plot on the (x, y) plane at the half-way value of z\n",
    "    # Notice that the 3D array is stored in (z, y, x) order\n",
    "    z_index = int(array3D.shape[0]/2)\n",
    "    x0     = np.linspace(-0.6, 0.6, array3D.shape[2])\n",
    "    y0     = np.linspace(-0.6, 0.6, array3D.shape[1])\n",
    "    image   = axplot.pcolormesh(x0, y0, array3D[z_index, :, :],\n",
    "                                cmap = \"RdBu\", vmin = -0.001, vmax = 0.001)\n",
    "    axplot.set_xlim(xmin=-0.5, xmax=0.5)\n",
    "    axplot.set_ylim(ymin=-0.5, ymax=0.5)\n",
    "    # Set up the colorbar\n",
    "    axclb.tick_params(labelsize=7.0)\n",
    "    fig.colorbar(image, cax = axclb, extend = \"neither\")\n",
    "    \n",
    "    # Print the current iteration\n",
    "    axplot.text(0.18, 0.42, \"Iteration \" + iteration,\n",
    "             fontsize = 8., fontweight = \"bold\", color = \"k\")\n",
    "\n",
    "    # Take a snapshot of the figure at this iteration (needed later for the animation)\n",
    "    camera.snap()"
   ]
  },
  {
   "cell_type": "code",
   "execution_count": null,
   "id": "166d5f98",
   "metadata": {
    "scrolled": true
   },
   "outputs": [],
   "source": [
    "from IPython.display import HTML\n",
    "animation = camera.animate()\n",
    "HTML(animation.to_html5_video())"
   ]
  },
  {
   "cell_type": "markdown",
   "id": "1254f55c",
   "metadata": {},
   "source": [
    "You may delete the simulation directory via the following:\n"
   ]
  },
  {
   "cell_type": "code",
   "execution_count": null,
   "id": "ed1486e9",
   "metadata": {},
   "outputs": [],
   "source": [
    "%cd ~/\n",
    "%rm -r ./simulations/Magnetic_loop_advection"
   ]
  },
  {
   "cell_type": "code",
   "execution_count": null,
   "id": "15e66851",
   "metadata": {},
   "outputs": [],
   "source": []
  }
 ],
 "metadata": {
  "kernelspec": {
   "display_name": "Python 3 (ipykernel)",
   "language": "python",
   "name": "python3"
  },
  "language_info": {
   "codemirror_mode": {
    "name": "ipython",
    "version": 3
   },
   "file_extension": ".py",
   "mimetype": "text/x-python",
   "name": "python",
   "nbconvert_exporter": "python",
   "pygments_lexer": "ipython3",
   "version": "3.8.10"
  }
 },
 "nbformat": 4,
 "nbformat_minor": 5
}
