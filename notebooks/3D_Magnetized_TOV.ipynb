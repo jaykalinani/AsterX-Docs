{
 "cells": [
  {
   "cell_type": "markdown",
   "id": "a3199d91",
   "metadata": {},
   "source": [
    "# 3D Magnetized TOV Test\n",
    "\n",
    "This notebook runs a simulation of magnetized TOV in fixed spacetime with AsterX, and visualizes the data saved in OpenPMD format. \n",
    "\n",
    "\n",
    "### Test setup\n",
    "\n",
    "- Uses `TOVSolver` thorn to compute the initial TOV star configuration using a polytropic EOS with adiabatic index $\\gamma=2.0$, polytropic constant $K=100$ and initial central rest-mass density $\\rho=1.28\\times 10^{-3}$.\n",
    "\n",
    "\n",
    "- Initial vector potential is set using the thorn ```AsterSeeds```: $A_\\phi \\equiv A_b r^2 max(p-p_{cut}, 0)^{n_s}$, where $p_{cut} = 0.04p_{max}$ and $n_s=2$. This gives an initial magnetic field strength of about $10^{15} G$.\n",
    "\n",
    "- Evolution with ideal gas EOS with $\\gamma = 2$.\n",
    "\n",
    "- Grid domain is $[-13,+13]$ with size $26 \\times 26 \\times 26$ (very low resolution).\n",
    "\n",
    "- `Neumann` boundary conditions are applied in all directions.\n",
    "\n",
    "\n"
   ]
  },
  {
   "cell_type": "code",
   "execution_count": null,
   "id": "2f81f9c6",
   "metadata": {},
   "outputs": [],
   "source": [
    "# this allows you to use \"cd\" in cells to change directories instead of requiring \"%cd\"\n",
    "%automagic on\n",
    "# override IPython's default %%bash to not buffer all output\n",
    "from IPython.core.magic import register_cell_magic\n",
    "@register_cell_magic\n",
    "def bash(line, cell): get_ipython().system(cell)\n",
    "\n",
    "# this (non-default package) keeps the end of shell output in view\n",
    "try: import scrolldown\n",
    "except ModuleNotFoundError: pass\n",
    "\n",
    "# set Python environment \n",
    "import os, sys\n",
    "os.environ[\"PYTHONUSERBASE\"] = os.environ['HOME'] + \"/Cactus/python\"\n",
    "sys.path.insert(1, f\"{os.environ['PYTHONUSERBASE']}/lib/python{sys.version_info[0]}.{sys.version_info[1]}/site-packages\")"
   ]
  },
  {
   "cell_type": "markdown",
   "id": "cdbc9030",
   "metadata": {},
   "source": [
    "## 1. Steps to perform the simulation"
   ]
  },
  {
   "cell_type": "markdown",
   "id": "e1147f1c",
   "metadata": {},
   "source": [
    "First, let's first move to the Cactus folder:"
   ]
  },
  {
   "cell_type": "code",
   "execution_count": null,
   "id": "32ea5241",
   "metadata": {},
   "outputs": [],
   "source": [
    "cd ~/CarpetX"
   ]
  },
  {
   "cell_type": "markdown",
   "id": "da9030c4",
   "metadata": {},
   "source": [
    "Now, let's create the parameter file to be used for this simulation:"
   ]
  },
  {
   "cell_type": "code",
   "execution_count": null,
   "id": "f70080ec",
   "metadata": {},
   "outputs": [],
   "source": [
    "%%writefile ./par/MagnetizedTOV.par\n",
    "\n",
    "###############################\n",
    "# Simple test of magnetised TOV neutron star\n",
    "# Same neutron star as the gallery example\n",
    "# K=100, rho_c = 1.28e-3 => M = 1.4, M_b = 1.506\n",
    "# evolve for t = 400 M\n",
    "##############################\n",
    "ActiveThorns = \"\n",
    "    ADMBase\n",
    "    CarpetX\n",
    "    HydroBase\n",
    "    IOUtil\n",
    "    ODESolvers\n",
    "    SystemTopology\n",
    "    TimerReport\n",
    "    TmunuBase\n",
    "    AsterX\n",
    "    AsterSeeds\n",
    "\"\n",
    "\n",
    "$nlevels        = 1\n",
    "$ncells         = 26\n",
    "\n",
    "Cactus::terminate = \"time\"\n",
    "Cactus::cctk_final_time = 400\n",
    "\n",
    "CarpetX::verbose = no\n",
    "\n",
    "Cactus::presync_mode = \"mixed-error\"\n",
    "CarpetX::poison_undefined_values = no\n",
    "\n",
    "CarpetX::xmin = -13\n",
    "CarpetX::ymin = -13\n",
    "CarpetX::zmin = -13\n",
    "\n",
    "CarpetX::xmax = 13\n",
    "CarpetX::ymax = 13\n",
    "CarpetX::zmax = 13\n",
    "\n",
    "CarpetX::ncells_x = $ncells\n",
    "CarpetX::ncells_y = $ncells\n",
    "CarpetX::ncells_z = $ncells\n",
    "\n",
    "CarpetX::boundary_x =  \"neumann\"\n",
    "CarpetX::boundary_y =  \"neumann\"\n",
    "CarpetX::boundary_z =  \"neumann\"\n",
    "CarpetX::boundary_upper_x =  \"neumann\"\n",
    "CarpetX::boundary_upper_y =  \"neumann\"\n",
    "CarpetX::boundary_upper_z =  \"neumann\"\n",
    "\n",
    "CarpetX::max_num_levels = $nlevels\n",
    "CarpetX::regrid_every = 10000\n",
    "CarpetX::blocking_factor_x = 1\n",
    "CarpetX::blocking_factor_y = 1\n",
    "CarpetX::blocking_factor_z = 1\n",
    "\n",
    "# the regrid_error_threshold should be in the same units of the \n",
    "# parameter in comparison, see AsterX/src/estimate_error.cxx \n",
    "# for which parameter to use\n",
    "CarpetX::regrid_error_threshold = 5.0e-5\n",
    "\n",
    "CarpetX::prolongation_type = \"ddf\"\n",
    "CarpetX::ghost_size = 3\n",
    "CarpetX::dtfac = 0.35\n",
    "\n",
    "#ADMBase::set_adm_variables_during_evolution = \"yes\"\n",
    "ADMBase::initial_data       = \"tov\"\n",
    "ADMBase::initial_lapse      = \"tov\"\n",
    "ADMBase::initial_shift      = \"tov\"\n",
    "ADMBase::initial_dtlapse    = \"zero\"\n",
    "ADMBase::initial_dtshift    = \"zero\"\n",
    "\n",
    "\n",
    "ActiveThorns = \"TOVSolver\"\n",
    "TOVSolver::TOV_Rho_Central[0] = 1.28e-3\n",
    "TOVSolver::TOV_Gamma          = 2.0\n",
    "TOVSolver::TOV_K              = 100.0\n",
    "TOVSolver::TOV_Cowling = yes\n",
    "\n",
    "\n",
    "AsterSeeds::test_type = \"3DTest\"\n",
    "AsterSeeds::test_case = \"magTOV\"\n",
    "AsterSeeds::Afield_config = \"internal dipole\"\n",
    "AsterSeeds::Ab = 10000.0\n",
    "AsterSeeds::press_cut = 0.04\n",
    "AsterSeeds::press_max = 1.638e-4\n",
    "AsterSeeds::Avec_kappa = 2.0\n",
    "\n",
    "#AsterSeeds::Afield_config = \"external dipole\"\n",
    "#AsterSeeds::B0 = 1e-7\n",
    "#AsterSeeds::r0 = 5.0\n",
    "\n",
    "AsterX::rho_abs_min = 1e-13\n",
    "AsterX::atmo_tol = 1e-3\n",
    "AsterX::reconstruction_method = \"wenoz\"\n",
    "AsterX::flux_type = \"HLLE\"\n",
    "AsterX::max_iter = 30\n",
    "AsterX::c2p_tol = 1e-8\n",
    "AsterX::vector_potential_gauge = \"algebraic\"\n",
    "\n",
    "EOSX::evol_eos_name = \"IdealGas\"\n",
    "EOSX::gl_gamma = 2\n",
    "EOSX::poly_gamma = 2.0\n",
    "EOSX::poly_k = 100\n",
    "\n",
    "ODESolvers::method = \"RK4\"\n",
    "\n",
    "IO::out_dir = $parfile\n",
    "IO::out_every =  20 #$ncells * 2 ** ($nlevels - 1) / 32\n",
    "        \n",
    "CarpetX::out_openpmd_vars = \"\n",
    "    HydroBase::rho\n",
    "    HydroBase::Bvec\n",
    "\"\n",
    "\n",
    "CarpetX::out_norm_vars = \"HydroBase::rho\"\n"
   ]
  },
  {
   "cell_type": "markdown",
   "id": "658a1c21",
   "metadata": {},
   "source": [
    "Then, submit the simulation using the following command:"
   ]
  },
  {
   "cell_type": "code",
   "execution_count": null,
   "id": "e03e1fc4",
   "metadata": {},
   "outputs": [],
   "source": [
    "%%bash\n",
    "./simfactory/bin/sim create-submit MagnetizedTOV \\\n",
    "  --parfile=./par/MagnetizedTOV.par --procs=3 --num-threads=1 --ppn-used=3 --walltime=00:20:00"
   ]
  },
  {
   "cell_type": "markdown",
   "id": "726eea03",
   "metadata": {},
   "source": [
    "The above command creates and runs the simulation ```MagnetizedTOV```, using the configuration ```sim```. The data is saved in the directory ```./simulations/MagnetizedTOV```.\n",
    "\n"
   ]
  },
  {
   "cell_type": "code",
   "execution_count": null,
   "id": "503a5fac",
   "metadata": {},
   "outputs": [],
   "source": [
    "# watch log output, following along as new output is produced\n",
    "!./simfactory/bin/sim show-output --follow MagnetizedTOV"
   ]
  },
  {
   "cell_type": "markdown",
   "id": "f0ac6505",
   "metadata": {},
   "source": [
    "## 2. Steps to visualize simulation data\n",
    "\n",
    "The 2D data can be saved in both Silo format (which can be visualised, for instance, via VisIt) and in OpenPMD format. \n",
    "\n",
    "For further info on Silo, please visit: https://wci.llnl.gov/simulation/computer-codes/silo\n",
    "\n",
    "For further info about OpenPMD, please visit:\n",
    "\n",
    "- Official website:  https://www.openpmd.org\n",
    "- GitHub repository: https://github.com/openPMD\n",
    "- Documentation:     https://openpmd-api.readthedocs.io"
   ]
  },
  {
   "cell_type": "markdown",
   "id": "a2649395",
   "metadata": {},
   "source": [
    "Now, let's go back to the home directory:"
   ]
  },
  {
   "cell_type": "code",
   "execution_count": null,
   "id": "e4843d83",
   "metadata": {},
   "outputs": [],
   "source": [
    "cd ~/"
   ]
  },
  {
   "cell_type": "markdown",
   "id": "11a41e6a",
   "metadata": {},
   "source": [
    "Import all the required modules:"
   ]
  },
  {
   "cell_type": "code",
   "execution_count": null,
   "id": "639ea08d",
   "metadata": {},
   "outputs": [],
   "source": [
    "%pip install --user celluloid"
   ]
  },
  {
   "cell_type": "code",
   "execution_count": null,
   "id": "4d6568bb",
   "metadata": {},
   "outputs": [],
   "source": [
    "import sys\n",
    "sys.path.append(\"/usr/local/lib/python3.8/site-packages\")"
   ]
  },
  {
   "cell_type": "code",
   "execution_count": null,
   "id": "6e85b103",
   "metadata": {},
   "outputs": [],
   "source": [
    "import numpy as np\n",
    "from matplotlib import pyplot as plt\n",
    "from celluloid import Camera\n",
    "import openpmd_api as io"
   ]
  },
  {
   "cell_type": "markdown",
   "id": "07ab8463",
   "metadata": {},
   "source": [
    "Set the Matplotlib backend to `notebook`, not `inline`, since we'll want to animate some figures and the latter is not compatible with that"
   ]
  },
  {
   "cell_type": "code",
   "execution_count": null,
   "id": "83a647de",
   "metadata": {},
   "outputs": [],
   "source": [
    "%matplotlib notebook"
   ]
  },
  {
   "cell_type": "markdown",
   "id": "ab672b26",
   "metadata": {},
   "source": [
    "Open a .bp file (ADIOS2 extension) as an OpenPMD **'series'**, which is a collection of **'iterations'**, each of which contains **'records'**, which are sets of either structured data --- **'meshes'** --- or unstructured data --- **'particles'**. \n",
    "\n",
    "AsterX only outputs mesh data. Each record has one or more **'components'**: for example, a record representing a scalar field only has one component, while a record representing a vector field has three."
   ]
  },
  {
   "cell_type": "code",
   "execution_count": null,
   "id": "952fe282",
   "metadata": {},
   "outputs": [],
   "source": [
    "home = os.environ[\"HOME\"]\n",
    "series = io.Series(os.path.join(home, \"simulations\",\n",
    "                                \"MagnetizedTOV\",\n",
    "                                \"output-0000\",\"MagnetizedTOV\",\n",
    "                                \"MagnetizedTOV.it%08T.bp5\"), io.Access.read_only)"
   ]
  },
  {
   "cell_type": "markdown",
   "id": "afe46e4f",
   "metadata": {},
   "source": [
    "All iterations in our series have the same structure, i.e., they contain\n",
    "the same records, since they all represent the same output, just at\n",
    "different times. \n",
    "\n",
    "Here we define an empty Python nested dictionary whose\n",
    "structure, once full, will be:\n",
    "\n",
    "Iteration 0:\n",
    "- Record 1:\n",
    "  - Component 1: 3D data array\n",
    "  - Component 2: 3D data array\n",
    "  - Component 3: 3D data array\n",
    "- Record 2:\n",
    "  - Component 1: 3D data array\n",
    "  - Component 2: 3D data array\n",
    "  - Component 3: 3D data array\n",
    "  \n",
    " [...]\n",
    "\n",
    "Iteration 1:\n",
    "- Record 1:\n",
    "  - Component 1: 3D data array\n",
    "  - Component 2: 3D data array\n",
    "  - Component 3: 3D data array\n",
    "- Record 2:\n",
    "  - Component 1: 3D data array\n",
    "  - Component 2: 3D data array\n",
    "  - Component 3: 3D data array\n",
    "  \n",
    " [...]\n",
    "\n",
    "[...]"
   ]
  },
  {
   "cell_type": "code",
   "execution_count": null,
   "id": "2efcb65f",
   "metadata": {},
   "outputs": [],
   "source": [
    "iter_rec_comp_dict = {}"
   ]
  },
  {
   "cell_type": "markdown",
   "id": "50d2202f",
   "metadata": {},
   "source": [
    "Print info, register data chunks and fill the above dictionary:"
   ]
  },
  {
   "cell_type": "code",
   "execution_count": null,
   "id": "9e50d08d",
   "metadata": {},
   "outputs": [],
   "source": [
    "for index in series.iterations:\n",
    "    iteration = str(index)\n",
    "\n",
    "    print(\"\\nIteration \" + iteration + \":\")\n",
    "    print(\"==============\")\n",
    "\n",
    "    # Allocate an empty dictionary associated to this iteration\n",
    "    iter_rec_comp_dict[iteration] = {}\n",
    "\n",
    "    i = series.iterations[index]\n",
    "\n",
    "    for key in i.meshes:\n",
    "        print(\"Components of record \\\"\" + key + \"\\\":\")\n",
    "\n",
    "        # Allocate an empty dictionary associated to this record. Notice that\n",
    "        # 'record' is an OpenPMD mesh object, so it's better to use 'key'\n",
    "        # instead of 'record' as a key in the dictionary ('record' could also be\n",
    "        # used, but it makes accessing the key clumsy).\n",
    "        record = i.meshes[key]\n",
    "        iter_rec_comp_dict[iteration][key] = {}\n",
    "\n",
    "        # Load each component of each record as a 'data chunk', i.e., an\n",
    "        # allocated, but STILL INVALID, NumPy array. Later we will flush all\n",
    "        # chunks (i.e., basically, fill the NumPy arrays) at once: this leads\n",
    "        # to better I/O performance compared to flushing a large number of\n",
    "        # small chunks. That's why we bothered creating the nested dictionary:\n",
    "        # in this way, we can access the valid NumPy arrays for plotting\n",
    "        # without having to flush each single chunk.\n",
    "        # *IMPORTANT*: DO NOT access data chunks until flushing has happened!\n",
    "        for component in record:\n",
    "            print(\"    > \" + component)  # 'component' is a string\n",
    "            iter_rec_comp_dict[iteration][key][component] = record[component].load_chunk()  # *INVALID* 3D NumPy array\n",
    "\n",
    "        print(\"\")"
   ]
  },
  {
   "cell_type": "markdown",
   "id": "aa7c35ac",
   "metadata": {},
   "source": [
    "Flush all registered data chunks, which are now **VALID** 3D NumPy arrays:"
   ]
  },
  {
   "cell_type": "code",
   "execution_count": null,
   "id": "19cbf55f",
   "metadata": {},
   "outputs": [],
   "source": [
    "series.flush()"
   ]
  },
  {
   "cell_type": "markdown",
   "id": "f5e3e0b5",
   "metadata": {},
   "source": [
    "Visualize a 2D movie of the mass density on the xz plane:"
   ]
  },
  {
   "cell_type": "code",
   "execution_count": null,
   "id": "9ac9aac8",
   "metadata": {
    "scrolled": true
   },
   "outputs": [],
   "source": [
    "# Select the desired record and component to plot\n",
    "record    = \"hydrobase_rho_lev00\"  # \"carpetx_regrid_error_lev00\", \"hydrobase_eps_lev00\", \"hydrobase_press_lev00\", \"hydrobase_rho_lev00\", \"hydrobase_vel_lev00\"\n",
    "component = \"hydrobase_rho\"  # \"carpetx_regrid_error\", \"hydrobase_eps\", \"hydrobase_press\", \"hydrobase_rho\", \"hydrobase_velx\", \"hydrobase_vely\", \"hydrobase_velz\"\n",
    "\n",
    "# Set up the axes for the plot and the colorbar\n",
    "fig    = plt.figure(figsize = [4.8, 4])\n",
    "axplot = fig.add_axes([0.12, 0.14, 0.72, 0.74])\n",
    "axclb  = fig.add_axes([0.85, 0.14, 0.02, 0.74])\n",
    "#axplot = fig.add_axes([0.12, 0.14, 0.7, 0.7])\n",
    "#axclb  = fig.add_axes([0.8, 0.16, 0.05, 0.65])\n",
    "\n",
    "\n",
    "# Set title and labels\n",
    "axplot.set_title(\"Rest-mass density\", fontsize = 10., fontweight = \"bold\", color = \"midnightblue\")\n",
    "axplot.set_xlabel(\"x\", fontsize = 7.)\n",
    "axplot.set_ylabel(\"z\", fontsize = 7.)\n",
    "axplot.tick_params(labelsize=7)\n",
    "axplot.xaxis.set_major_locator(plt.MaxNLocator(5))\n",
    "axplot.yaxis.set_major_locator(plt.MaxNLocator(5))\n",
    "\n",
    "\n",
    "# Initialize the camera\n",
    "camera = Camera(fig)\n",
    "\n",
    "# Print frames\n",
    "for iteration in iter_rec_comp_dict:\n",
    "    # Retrieve the 3D array containing the data\n",
    "    array3D = iter_rec_comp_dict[iteration][record][component]\n",
    "    \n",
    "    # Plot on the (x, y) plane at the half-way value of z\n",
    "    # Notice that the 3D array is stored in (z, y, x) order\n",
    "    z_index = int(array3D.shape[0]/2)\n",
    "    x0     = np.linspace(-14, 14, array3D.shape[2])\n",
    "    y0     = np.linspace(-14, 14, array3D.shape[1])\n",
    "    log10_rho = np.log10(array3D[z_index, :, :])\n",
    "    image   = axplot.pcolormesh(x0, y0, log10_rho,\n",
    "                                cmap = \"inferno\", vmin = -5.8 , vmax = -2.8)\n",
    "    axplot.set_xlim(xmin=-11, xmax=11)\n",
    "    axplot.set_ylim(ymin=-11, ymax=11)\n",
    "    # Set up the colorbar\n",
    "    axclb.tick_params(labelsize=7.0)\n",
    "    fig.colorbar(image, cax = axclb, extend = \"neither\")\n",
    "    \n",
    "    # Print the current iteration\n",
    "    axplot.text(5, 9, \"Iteration \" + iteration,\n",
    "             fontsize = 8., fontweight = \"bold\", color = \"white\")\n",
    "\n",
    "    # Take a snapshot of the figure at this iteration (needed later for the animation)\n",
    "    camera.snap()"
   ]
  },
  {
   "cell_type": "code",
   "execution_count": null,
   "id": "166d5f98",
   "metadata": {
    "scrolled": true
   },
   "outputs": [],
   "source": [
    "from IPython.display import HTML\n",
    "animation = camera.animate()\n",
    "HTML(animation.to_html5_video())"
   ]
  },
  {
   "cell_type": "markdown",
   "id": "1254f55c",
   "metadata": {},
   "source": [
    "You may delete the simulation directory via the following:\n"
   ]
  },
  {
   "cell_type": "code",
   "execution_count": null,
   "id": "ed1486e9",
   "metadata": {},
   "outputs": [],
   "source": [
    "%cd ~/\n",
    "%rm -r ./simulations/MagnetizedTOV"
   ]
  },
  {
   "cell_type": "code",
   "execution_count": null,
   "id": "15e66851",
   "metadata": {},
   "outputs": [],
   "source": []
  }
 ],
 "metadata": {
  "kernelspec": {
   "display_name": "Python 3 (ipykernel)",
   "language": "python",
   "name": "python3"
  },
  "language_info": {
   "codemirror_mode": {
    "name": "ipython",
    "version": 3
   },
   "file_extension": ".py",
   "mimetype": "text/x-python",
   "name": "python",
   "nbconvert_exporter": "python",
   "pygments_lexer": "ipython3",
   "version": "3.8.10"
  }
 },
 "nbformat": 4,
 "nbformat_minor": 5
}
